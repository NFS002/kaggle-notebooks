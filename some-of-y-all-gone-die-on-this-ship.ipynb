{
 "cells": [
  {
   "cell_type": "code",
   "execution_count": 1,
   "id": "ee1dd89d",
   "metadata": {
    "_cell_guid": "b1076dfc-b9ad-4769-8c92-a6c4dae69d19",
    "_uuid": "8f2839f25d086af736a60e9eeb907d3b93b6e0e5",
    "execution": {
     "iopub.execute_input": "2022-08-26T09:59:36.523952Z",
     "iopub.status.busy": "2022-08-26T09:59:36.523425Z",
     "iopub.status.idle": "2022-08-26T09:59:38.774214Z",
     "shell.execute_reply": "2022-08-26T09:59:38.773232Z"
    },
    "papermill": {
     "duration": 2.264585,
     "end_time": "2022-08-26T09:59:38.776567",
     "exception": false,
     "start_time": "2022-08-26T09:59:36.511982",
     "status": "completed"
    },
    "tags": []
   },
   "outputs": [
    {
     "data": {
      "text/html": [
       "<style type='text/css'>\n",
       ".datatable table.frame { margin-bottom: 0; }\n",
       ".datatable table.frame thead { border-bottom: none; }\n",
       ".datatable table.frame tr.coltypes td {  color: #FFFFFF;  line-height: 6px;  padding: 0 0.5em;}\n",
       ".datatable .bool    { background: #DDDD99; }\n",
       ".datatable .object  { background: #565656; }\n",
       ".datatable .int     { background: #5D9E5D; }\n",
       ".datatable .float   { background: #4040CC; }\n",
       ".datatable .str     { background: #CC4040; }\n",
       ".datatable .time    { background: #40CC40; }\n",
       ".datatable .row_index {  background: var(--jp-border-color3);  border-right: 1px solid var(--jp-border-color0);  color: var(--jp-ui-font-color3);  font-size: 9px;}\n",
       ".datatable .frame tbody td { text-align: left; }\n",
       ".datatable .frame tr.coltypes .row_index {  background: var(--jp-border-color0);}\n",
       ".datatable th:nth-child(2) { padding-left: 12px; }\n",
       ".datatable .hellipsis {  color: var(--jp-cell-editor-border-color);}\n",
       ".datatable .vellipsis {  background: var(--jp-layout-color0);  color: var(--jp-cell-editor-border-color);}\n",
       ".datatable .na {  color: var(--jp-cell-editor-border-color);  font-size: 80%;}\n",
       ".datatable .sp {  opacity: 0.25;}\n",
       ".datatable .footer { font-size: 9px; }\n",
       ".datatable .frame_dimensions {  background: var(--jp-border-color3);  border-top: 1px solid var(--jp-border-color0);  color: var(--jp-ui-font-color3);  display: inline-block;  opacity: 0.6;  padding: 1px 10px 1px 5px;}\n",
       "</style>\n"
      ],
      "text/plain": [
       "<IPython.core.display.HTML object>"
      ]
     },
     "metadata": {},
     "output_type": "display_data"
    }
   ],
   "source": [
    "# This Python 3 environment comes with many helpful analytics libraries installed\n",
    "# It is defined by the kaggle/python Docker image: https://github.com/kaggle/docker-python\n",
    "# For example, here's several helpful packages to load\n",
    "\n",
    "import os\n",
    "import pandas as pd\n",
    "import numpy as np\n",
    "import regex as re\n",
    "\n",
    "from sklearn.preprocessing import StandardScaler\n",
    "from sklearn.model_selection import cross_validate, GridSearchCV\n",
    "from sklearn.neighbors import KNeighborsClassifier\n",
    "from sklearn.linear_model import LogisticRegression\n",
    "from sklearn.tree import DecisionTreeClassifier\n",
    "from sklearn.ensemble import RandomForestClassifier\n",
    "from sklearn.svm import SVC\n",
    "from sklearn.neural_network import MLPClassifier\n",
    "from xgboost import XGBClassifier\n",
    "from lightgbm import LGBMClassifier\n",
    "from sklearn.metrics import classification_report\n",
    "\n",
    "# You can write up to 20GB to the current directory (/kaggle/working/) that gets preserved as output when you create a version using \"Save & Run All\" \n",
    "# You can also write temporary files to /kaggle/temp/, but they won't be saved outside of the current session"
   ]
  },
  {
   "cell_type": "code",
   "execution_count": 2,
   "id": "7d218ecf",
   "metadata": {
    "execution": {
     "iopub.execute_input": "2022-08-26T09:59:38.795461Z",
     "iopub.status.busy": "2022-08-26T09:59:38.795174Z",
     "iopub.status.idle": "2022-08-26T09:59:38.846853Z",
     "shell.execute_reply": "2022-08-26T09:59:38.845374Z"
    },
    "papermill": {
     "duration": 0.064028,
     "end_time": "2022-08-26T09:59:38.849390",
     "exception": false,
     "start_time": "2022-08-26T09:59:38.785362",
     "status": "completed"
    },
    "tags": []
   },
   "outputs": [],
   "source": [
    "paths = []\n",
    "for dirname, _, filenames in os.walk('/kaggle/input'):\n",
    "    for filename in filenames:\n",
    "        paths.append(os.path.join(dirname, filename))\n",
    "        \n",
    "train_data = pd.read_csv(paths[0])\n",
    "test_data = pd.read_csv(paths[1])\n",
    "sample_submission = pd.read_csv(paths[2])\n",
    "all_data = pd.concat([test_data.assign(Train=False), train_data.assign(Train=True)])"
   ]
  },
  {
   "cell_type": "code",
   "execution_count": 3,
   "id": "a527b564",
   "metadata": {
    "execution": {
     "iopub.execute_input": "2022-08-26T09:59:38.868118Z",
     "iopub.status.busy": "2022-08-26T09:59:38.867754Z",
     "iopub.status.idle": "2022-08-26T09:59:38.873167Z",
     "shell.execute_reply": "2022-08-26T09:59:38.872263Z"
    },
    "papermill": {
     "duration": 0.016917,
     "end_time": "2022-08-26T09:59:38.874905",
     "exception": false,
     "start_time": "2022-08-26T09:59:38.857988",
     "status": "completed"
    },
    "tags": []
   },
   "outputs": [
    {
     "data": {
      "text/plain": [
       "['Survived']"
      ]
     },
     "execution_count": 3,
     "metadata": {},
     "output_type": "execute_result"
    }
   ],
   "source": [
    "missing_features = [col for col in train_data.columns if col not in test_data.columns]\n",
    "missing_features"
   ]
  },
  {
   "cell_type": "markdown",
   "id": "985fa639",
   "metadata": {
    "execution": {
     "iopub.execute_input": "2022-08-23T09:43:47.359087Z",
     "iopub.status.busy": "2022-08-23T09:43:47.358317Z",
     "iopub.status.idle": "2022-08-23T09:43:47.366130Z",
     "shell.execute_reply": "2022-08-23T09:43:47.365300Z",
     "shell.execute_reply.started": "2022-08-23T09:43:47.359043Z"
    },
    "papermill": {
     "duration": 0.00842,
     "end_time": "2022-08-26T09:59:38.892059",
     "exception": false,
     "start_time": "2022-08-26T09:59:38.883639",
     "status": "completed"
    },
    "tags": []
   },
   "source": []
  },
  {
   "cell_type": "markdown",
   "id": "7c437beb",
   "metadata": {
    "papermill": {
     "duration": 0.008369,
     "end_time": "2022-08-26T09:59:38.909754",
     "exception": false,
     "start_time": "2022-08-26T09:59:38.901385",
     "status": "completed"
    },
    "tags": []
   },
   "source": [
    "# Go through each column 1 by 1, transforming or cleaning or whatever\n",
    "\n",
    "### PassengerId\n",
    "- Drop Id column as it is not relevant\n",
    "- We'll need to keep a copy of the test ids for the submissions later though"
   ]
  },
  {
   "cell_type": "code",
   "execution_count": 4,
   "id": "16ea4b4d",
   "metadata": {
    "execution": {
     "iopub.execute_input": "2022-08-26T09:59:38.928894Z",
     "iopub.status.busy": "2022-08-26T09:59:38.928313Z",
     "iopub.status.idle": "2022-08-26T09:59:38.935047Z",
     "shell.execute_reply": "2022-08-26T09:59:38.934347Z"
    },
    "papermill": {
     "duration": 0.018892,
     "end_time": "2022-08-26T09:59:38.937190",
     "exception": false,
     "start_time": "2022-08-26T09:59:38.918298",
     "status": "completed"
    },
    "tags": []
   },
   "outputs": [],
   "source": [
    "# Keep a copy\n",
    "PassengerId = test_data.PassengerId\n",
    "\n",
    "# Drop ID\n",
    "if 'PassengerId' in all_data.columns:\n",
    "    all_data.drop(['PassengerId'], axis=1, inplace=True)"
   ]
  },
  {
   "cell_type": "markdown",
   "id": "2aa10384",
   "metadata": {
    "papermill": {
     "duration": 0.008647,
     "end_time": "2022-08-26T09:59:38.955153",
     "exception": false,
     "start_time": "2022-08-26T09:59:38.946506",
     "status": "completed"
    },
    "tags": []
   },
   "source": [
    "### Pclass\n",
    "- No missing values\n",
    "- Possible value 1, 2, or 3\n",
    "\n",
    "### Name\n",
    "- Probably useless\n",
    "- We could extract title as new feature\n",
    "- Number of middle names / surnames or name length could be useful\\\n",
    "- No missing values\n"
   ]
  },
  {
   "cell_type": "code",
   "execution_count": 5,
   "id": "05418d51",
   "metadata": {
    "execution": {
     "iopub.execute_input": "2022-08-26T09:59:38.974709Z",
     "iopub.status.busy": "2022-08-26T09:59:38.974137Z",
     "iopub.status.idle": "2022-08-26T09:59:38.990206Z",
     "shell.execute_reply": "2022-08-26T09:59:38.989476Z"
    },
    "papermill": {
     "duration": 0.028,
     "end_time": "2022-08-26T09:59:38.991920",
     "exception": false,
     "start_time": "2022-08-26T09:59:38.963920",
     "status": "completed"
    },
    "tags": []
   },
   "outputs": [
    {
     "data": {
      "text/plain": [
       "Mr          757\n",
       "Miss        260\n",
       "Mrs         197\n",
       "Master       61\n",
       "Rev           8\n",
       "Dr            8\n",
       "Col           4\n",
       "Ms            2\n",
       "Major         2\n",
       "Mlle          2\n",
       "Sir           1\n",
       "Countess      1\n",
       "Capt          1\n",
       "Don           1\n",
       "Lady          1\n",
       "Mme           1\n",
       "Dona          1\n",
       "Jonkheer      1\n",
       "Name: Title, dtype: int64"
      ]
     },
     "execution_count": 5,
     "metadata": {},
     "output_type": "execute_result"
    }
   ],
   "source": [
    "# Define function to extract titles from passenger names\n",
    "def get_title(name):\n",
    "    title_search = re.search(' ([A-Za-z]+)\\.', name)\n",
    "    # If the title exists, extract and return it.\n",
    "    if title_search:\n",
    "        return title_search.group(1)\n",
    "    return \"\"\n",
    "\n",
    "all_data['Title'] = all_data['Name'].map(get_title)\n",
    "all_data['Title'].value_counts()"
   ]
  },
  {
   "cell_type": "code",
   "execution_count": 6,
   "id": "73eb2524",
   "metadata": {
    "execution": {
     "iopub.execute_input": "2022-08-26T09:59:39.010921Z",
     "iopub.status.busy": "2022-08-26T09:59:39.010325Z",
     "iopub.status.idle": "2022-08-26T09:59:39.019927Z",
     "shell.execute_reply": "2022-08-26T09:59:39.019261Z"
    },
    "papermill": {
     "duration": 0.021706,
     "end_time": "2022-08-26T09:59:39.022096",
     "exception": false,
     "start_time": "2022-08-26T09:59:39.000390",
     "status": "completed"
    },
    "tags": []
   },
   "outputs": [],
   "source": [
    "def simple_title(title):\n",
    "    if type(title) == str:\n",
    "        if title in [\"Ms\", \"Mile\", \"Miss\"]:\n",
    "            return \"Miss\"\n",
    "        elif title in [\"Mme\", \"Mrs\"]:\n",
    "            return \"Mrs\"\n",
    "        elif title == \"Mr\":\n",
    "            return \"Mr\"\n",
    "        elif title == \"Master\":\n",
    "            return \"Master\"\n",
    "        else:\n",
    "            return \"Other\"\n",
    "    else:\n",
    "        return title\n",
    "    \n",
    "all_data['Title'] = all_data['Title'].map(simple_title)\n",
    "\n",
    "# Convert title to categorical\n",
    "all_data['Title'] =  all_data['Title'].astype('category').cat.codes\n",
    "\n",
    "# Create new feature for length of name\n",
    "all_data['Name_length'] = all_data['Name'].map(len)"
   ]
  },
  {
   "cell_type": "code",
   "execution_count": 7,
   "id": "c319f644",
   "metadata": {
    "execution": {
     "iopub.execute_input": "2022-08-26T09:59:39.041071Z",
     "iopub.status.busy": "2022-08-26T09:59:39.040498Z",
     "iopub.status.idle": "2022-08-26T09:59:39.045859Z",
     "shell.execute_reply": "2022-08-26T09:59:39.045239Z"
    },
    "papermill": {
     "duration": 0.016824,
     "end_time": "2022-08-26T09:59:39.047752",
     "exception": false,
     "start_time": "2022-08-26T09:59:39.030928",
     "status": "completed"
    },
    "tags": []
   },
   "outputs": [],
   "source": [
    "if 'Name' in all_data.columns:\n",
    "    all_data.drop(['Name'], axis=1, inplace=True)"
   ]
  },
  {
   "cell_type": "markdown",
   "id": "4ea7fab1",
   "metadata": {
    "papermill": {
     "duration": 0.008592,
     "end_time": "2022-08-26T09:59:39.065045",
     "exception": false,
     "start_time": "2022-08-26T09:59:39.056453",
     "status": "completed"
    },
    "tags": []
   },
   "source": [
    "### Ticket\n",
    "- Not sure, no clear pattern or meaning\n",
    "- Lets justy drop it XD"
   ]
  },
  {
   "cell_type": "code",
   "execution_count": 8,
   "id": "0d818116",
   "metadata": {
    "execution": {
     "iopub.execute_input": "2022-08-26T09:59:39.084518Z",
     "iopub.status.busy": "2022-08-26T09:59:39.083966Z",
     "iopub.status.idle": "2022-08-26T09:59:39.089626Z",
     "shell.execute_reply": "2022-08-26T09:59:39.088672Z"
    },
    "papermill": {
     "duration": 0.017929,
     "end_time": "2022-08-26T09:59:39.091688",
     "exception": false,
     "start_time": "2022-08-26T09:59:39.073759",
     "status": "completed"
    },
    "tags": []
   },
   "outputs": [],
   "source": [
    "if 'Ticket' in all_data.columns:\n",
    "    all_data.drop(['Ticket'], axis=1, inplace=True)"
   ]
  },
  {
   "cell_type": "markdown",
   "id": "1e08ca90",
   "metadata": {
    "execution": {
     "iopub.execute_input": "2022-08-23T10:52:56.287020Z",
     "iopub.status.busy": "2022-08-23T10:52:56.286656Z",
     "iopub.status.idle": "2022-08-23T10:52:56.294021Z",
     "shell.execute_reply": "2022-08-23T10:52:56.292915Z",
     "shell.execute_reply.started": "2022-08-23T10:52:56.286991Z"
    },
    "papermill": {
     "duration": 0.008276,
     "end_time": "2022-08-26T09:59:39.108600",
     "exception": false,
     "start_time": "2022-08-26T09:59:39.100324",
     "status": "completed"
    },
    "tags": []
   },
   "source": [
    "### Sex\n",
    "- All values 'male' or 'female'\n",
    "- Convert to int"
   ]
  },
  {
   "cell_type": "code",
   "execution_count": 9,
   "id": "35e5bf7f",
   "metadata": {
    "execution": {
     "iopub.execute_input": "2022-08-26T09:59:39.127419Z",
     "iopub.status.busy": "2022-08-26T09:59:39.126828Z",
     "iopub.status.idle": "2022-08-26T09:59:39.132745Z",
     "shell.execute_reply": "2022-08-26T09:59:39.132133Z"
    },
    "papermill": {
     "duration": 0.017565,
     "end_time": "2022-08-26T09:59:39.134711",
     "exception": false,
     "start_time": "2022-08-26T09:59:39.117146",
     "status": "completed"
    },
    "tags": []
   },
   "outputs": [],
   "source": [
    "all_data['Sex'] = all_data['Sex'].map({'male': 0, 'female': 1}).astype(int)"
   ]
  },
  {
   "cell_type": "markdown",
   "id": "18cac65d",
   "metadata": {
    "execution": {
     "iopub.execute_input": "2022-08-23T10:57:35.558117Z",
     "iopub.status.busy": "2022-08-23T10:57:35.557679Z",
     "iopub.status.idle": "2022-08-23T10:57:35.565129Z",
     "shell.execute_reply": "2022-08-23T10:57:35.563921Z",
     "shell.execute_reply.started": "2022-08-23T10:57:35.558082Z"
    },
    "papermill": {
     "duration": 0.008615,
     "end_time": "2022-08-26T09:59:39.152225",
     "exception": false,
     "start_time": "2022-08-26T09:59:39.143610",
     "status": "completed"
    },
    "tags": []
   },
   "source": [
    "### Age\n",
    "- There are 263 missing values here\n",
    "- Maybe we could convert to age categories (baby, toddler, child, teen, young adult..., middle-aged, ... uknown)\n",
    "- The missing values dont seem to be correlated with any other attributes\n",
    "- Age range is from 0.17 to 80"
   ]
  },
  {
   "cell_type": "code",
   "execution_count": 10,
   "id": "93cd315c",
   "metadata": {
    "execution": {
     "iopub.execute_input": "2022-08-26T09:59:39.172002Z",
     "iopub.status.busy": "2022-08-26T09:59:39.171384Z",
     "iopub.status.idle": "2022-08-26T09:59:39.185306Z",
     "shell.execute_reply": "2022-08-26T09:59:39.184405Z"
    },
    "papermill": {
     "duration": 0.026044,
     "end_time": "2022-08-26T09:59:39.187004",
     "exception": false,
     "start_time": "2022-08-26T09:59:39.160960",
     "status": "completed"
    },
    "tags": []
   },
   "outputs": [
    {
     "name": "stderr",
     "output_type": "stream",
     "text": [
      "/opt/conda/lib/python3.7/site-packages/pandas/core/arrays/categorical.py:2631: FutureWarning: The `inplace` parameter in pandas.Categorical.add_categories is deprecated and will be removed in a future version. Removing unused categories will always return a new Categorical object.\n",
      "  res = method(*args, **kwargs)\n"
     ]
    }
   ],
   "source": [
    "all_data['Age'] = pd.cut(all_data['Age'], 5, labels=[\"child\", \"young adult\", \"adult\", \"old\", \"oldest\"])\n",
    "all_data['Age'].cat.add_categories(['unknown'], inplace=True)\n",
    "all_data.loc[all_data['Age'].isna(), 'Age'] = 'unknown'"
   ]
  },
  {
   "cell_type": "markdown",
   "id": "0b6b5726",
   "metadata": {
    "papermill": {
     "duration": 0.008355,
     "end_time": "2022-08-26T09:59:39.204000",
     "exception": false,
     "start_time": "2022-08-26T09:59:39.195645",
     "status": "completed"
    },
    "tags": []
   },
   "source": [
    "### Cabin\n",
    "- Many missing values (77%) - is a missing value equivalent to not having a cabin ?\n",
    "- Some passengers actually appear to have more than 1 cabin also\n",
    "- We could create a new feature 'Cabins', indicating the number of cabins\n",
    "- Lets drop the original variable"
   ]
  },
  {
   "cell_type": "code",
   "execution_count": 11,
   "id": "b3fb6636",
   "metadata": {
    "execution": {
     "iopub.execute_input": "2022-08-26T09:59:39.223948Z",
     "iopub.status.busy": "2022-08-26T09:59:39.223415Z",
     "iopub.status.idle": "2022-08-26T09:59:39.231833Z",
     "shell.execute_reply": "2022-08-26T09:59:39.230857Z"
    },
    "papermill": {
     "duration": 0.020719,
     "end_time": "2022-08-26T09:59:39.233920",
     "exception": false,
     "start_time": "2022-08-26T09:59:39.213201",
     "status": "completed"
    },
    "tags": []
   },
   "outputs": [],
   "source": [
    "def get_n_cabins(cabin):\n",
    "    if type(cabin) == str:\n",
    "        cabins = cabin.strip().split(\" \")\n",
    "        return len(cabins)\n",
    "    else:\n",
    "        return 0\n",
    "    \n",
    "    \n",
    "all_data['Cabins'] = all_data['Cabin'].map(get_n_cabins)\n",
    "\n",
    "if 'Cabin' in all_data.columns:\n",
    "    all_data.drop(['Cabin'], axis=1, inplace=True)"
   ]
  },
  {
   "cell_type": "markdown",
   "id": "4a03c7bd",
   "metadata": {
    "execution": {
     "iopub.execute_input": "2022-08-24T09:21:13.736925Z",
     "iopub.status.busy": "2022-08-24T09:21:13.736558Z",
     "iopub.status.idle": "2022-08-24T09:21:13.741526Z",
     "shell.execute_reply": "2022-08-24T09:21:13.740632Z",
     "shell.execute_reply.started": "2022-08-24T09:21:13.736896Z"
    },
    "papermill": {
     "duration": 0.00876,
     "end_time": "2022-08-26T09:59:39.251682",
     "exception": false,
     "start_time": "2022-08-26T09:59:39.242922",
     "status": "completed"
    },
    "tags": []
   },
   "source": [
    "### Fare\n",
    "- Has only 1 missing value\n",
    "- We could try and guess those missing values based on another feature maybe\n",
    "- An old single guy with no cabin in Pclass 3, probably a low fare\n",
    "- We can see the mean fare for this type of passenger is 7.65282\n",
    "- We could try splitting into fare categories in a later version to see if this improves predictions"
   ]
  },
  {
   "cell_type": "code",
   "execution_count": 12,
   "id": "33a64049",
   "metadata": {
    "execution": {
     "iopub.execute_input": "2022-08-26T09:59:39.272619Z",
     "iopub.status.busy": "2022-08-26T09:59:39.272121Z",
     "iopub.status.idle": "2022-08-26T09:59:39.278169Z",
     "shell.execute_reply": "2022-08-26T09:59:39.277169Z"
    },
    "papermill": {
     "duration": 0.018748,
     "end_time": "2022-08-26T09:59:39.280247",
     "exception": false,
     "start_time": "2022-08-26T09:59:39.261499",
     "status": "completed"
    },
    "tags": []
   },
   "outputs": [],
   "source": [
    "all_data.loc[all_data['Fare'].isna(), 'Fare'] = 7.65282\n",
    "\n",
    "all_data['Fare'] = all_data['Fare'].astype(int)"
   ]
  },
  {
   "cell_type": "markdown",
   "id": "751a23d2",
   "metadata": {
    "papermill": {
     "duration": 0.008534,
     "end_time": "2022-08-26T09:59:39.297713",
     "exception": false,
     "start_time": "2022-08-26T09:59:39.289179",
     "status": "completed"
    },
    "tags": []
   },
   "source": []
  },
  {
   "cell_type": "markdown",
   "id": "5384ad92",
   "metadata": {
    "execution": {
     "iopub.execute_input": "2022-08-24T09:47:43.230234Z",
     "iopub.status.busy": "2022-08-24T09:47:43.229558Z",
     "iopub.status.idle": "2022-08-24T09:47:43.239339Z",
     "shell.execute_reply": "2022-08-24T09:47:43.238735Z",
     "shell.execute_reply.started": "2022-08-24T09:47:43.230202Z"
    },
    "papermill": {
     "duration": 0.009101,
     "end_time": "2022-08-26T09:59:39.315636",
     "exception": false,
     "start_time": "2022-08-26T09:59:39.306535",
     "status": "completed"
    },
    "tags": []
   },
   "source": [
    "### Pclass\n",
    "- No missing values\n",
    "- Pclass is 1, 2, or 3\n",
    "- High correlation with fare variable and number of cabins but the correlation is negative weirdly\n",
    "- Lets reverse the order of Pclass from 3, 2, 1 to 1, 2, 3 (not sure if this will make a difference ?)"
   ]
  },
  {
   "cell_type": "code",
   "execution_count": 13,
   "id": "82abb6c6",
   "metadata": {
    "execution": {
     "iopub.execute_input": "2022-08-26T09:59:39.334712Z",
     "iopub.status.busy": "2022-08-26T09:59:39.334200Z",
     "iopub.status.idle": "2022-08-26T09:59:39.339239Z",
     "shell.execute_reply": "2022-08-26T09:59:39.338586Z"
    },
    "papermill": {
     "duration": 0.017027,
     "end_time": "2022-08-26T09:59:39.341343",
     "exception": false,
     "start_time": "2022-08-26T09:59:39.324316",
     "status": "completed"
    },
    "tags": []
   },
   "outputs": [],
   "source": [
    "# Be careful not to run this code an odd number of times!! XD\n",
    "all_data['Pclass'].replace({3: 1, 1: 3}, inplace=True)"
   ]
  },
  {
   "cell_type": "markdown",
   "id": "1bddbaa9",
   "metadata": {
    "execution": {
     "iopub.execute_input": "2022-08-24T10:12:21.707199Z",
     "iopub.status.busy": "2022-08-24T10:12:21.706860Z",
     "iopub.status.idle": "2022-08-24T10:12:21.711754Z",
     "shell.execute_reply": "2022-08-24T10:12:21.710749Z",
     "shell.execute_reply.started": "2022-08-24T10:12:21.707170Z"
    },
    "papermill": {
     "duration": 0.008458,
     "end_time": "2022-08-26T09:59:39.358743",
     "exception": false,
     "start_time": "2022-08-26T09:59:39.350285",
     "status": "completed"
    },
    "tags": []
   },
   "source": [
    "### Sibsp & Parch\n",
    "- The documentation says this is the number of siblings and the number of parents onboard the titanic respectively\n",
    "- No missing values in each\n",
    "- Looking at a correlation matrix shows that all other features are roughly correlated to 'SibSp' by + or - 0.1% how much they are correlated to 'Parch'\n",
    "- We could maybe combine this into one variable, a future version could treat them differently to see if it makes any differrence"
   ]
  },
  {
   "cell_type": "code",
   "execution_count": 14,
   "id": "c7a16c02",
   "metadata": {
    "execution": {
     "iopub.execute_input": "2022-08-26T09:59:39.378503Z",
     "iopub.status.busy": "2022-08-26T09:59:39.378034Z",
     "iopub.status.idle": "2022-08-26T09:59:39.383346Z",
     "shell.execute_reply": "2022-08-26T09:59:39.382306Z"
    },
    "papermill": {
     "duration": 0.018146,
     "end_time": "2022-08-26T09:59:39.385853",
     "exception": false,
     "start_time": "2022-08-26T09:59:39.367707",
     "status": "completed"
    },
    "tags": []
   },
   "outputs": [],
   "source": [
    "all_data['GroupSize'] = all_data['SibSp'] + all_data['Parch']"
   ]
  },
  {
   "cell_type": "code",
   "execution_count": 15,
   "id": "3f95fb73",
   "metadata": {
    "execution": {
     "iopub.execute_input": "2022-08-26T09:59:39.406893Z",
     "iopub.status.busy": "2022-08-26T09:59:39.406545Z",
     "iopub.status.idle": "2022-08-26T09:59:39.413772Z",
     "shell.execute_reply": "2022-08-26T09:59:39.413096Z"
    },
    "papermill": {
     "duration": 0.019994,
     "end_time": "2022-08-26T09:59:39.415763",
     "exception": false,
     "start_time": "2022-08-26T09:59:39.395769",
     "status": "completed"
    },
    "tags": []
   },
   "outputs": [],
   "source": [
    "if 'SibSp' in all_data.columns:\n",
    "    all_data.drop(['SibSp'], axis=1, inplace=True)\n",
    "\n",
    "if 'Parch' in all_data.columns:\n",
    "    all_data.drop(['Parch'], axis=1, inplace=True)"
   ]
  },
  {
   "cell_type": "markdown",
   "id": "43499daa",
   "metadata": {
    "execution": {
     "iopub.execute_input": "2022-08-24T10:28:43.034362Z",
     "iopub.status.busy": "2022-08-24T10:28:43.034019Z",
     "iopub.status.idle": "2022-08-24T10:28:43.040738Z",
     "shell.execute_reply": "2022-08-24T10:28:43.039959Z",
     "shell.execute_reply.started": "2022-08-24T10:28:43.034333Z"
    },
    "papermill": {
     "duration": 0.008727,
     "end_time": "2022-08-26T09:59:39.434137",
     "exception": false,
     "start_time": "2022-08-26T09:59:39.425410",
     "status": "completed"
    },
    "tags": []
   },
   "source": [
    "### Embarked\n",
    "- Possible values are 'S' 'C' or 'Q' which indicates the port they embarked from\n",
    "- Two missing values\n",
    "- I wouldnt imagine this makes much difference to whether or not they survived but lets check a correlation matrix on the train data\n",
    "- Nope, lets drop it... oops that might of been a bad idea, oh well we can always change in a later version"
   ]
  },
  {
   "cell_type": "code",
   "execution_count": 16,
   "id": "a4e4fa17",
   "metadata": {
    "execution": {
     "iopub.execute_input": "2022-08-26T09:59:39.454182Z",
     "iopub.status.busy": "2022-08-26T09:59:39.453665Z",
     "iopub.status.idle": "2022-08-26T09:59:39.458633Z",
     "shell.execute_reply": "2022-08-26T09:59:39.458072Z"
    },
    "papermill": {
     "duration": 0.017157,
     "end_time": "2022-08-26T09:59:39.460422",
     "exception": false,
     "start_time": "2022-08-26T09:59:39.443265",
     "status": "completed"
    },
    "tags": []
   },
   "outputs": [],
   "source": [
    "if 'Embarked' in all_data.columns:\n",
    "    all_data.drop(['Embarked'], axis=1, inplace=True)"
   ]
  },
  {
   "cell_type": "markdown",
   "id": "021c612d",
   "metadata": {
    "execution": {
     "iopub.execute_input": "2022-08-24T10:50:50.407058Z",
     "iopub.status.busy": "2022-08-24T10:50:50.406718Z",
     "iopub.status.idle": "2022-08-24T10:50:50.413325Z",
     "shell.execute_reply": "2022-08-24T10:50:50.412745Z",
     "shell.execute_reply.started": "2022-08-24T10:50:50.407030Z"
    },
    "papermill": {
     "duration": 0.008502,
     "end_time": "2022-08-26T09:59:39.477739",
     "exception": false,
     "start_time": "2022-08-26T09:59:39.469237",
     "status": "completed"
    },
    "tags": []
   },
   "source": [
    "# Ok, so apart from the Train column we created to distinguish between test or train data, that seems to be all of the existing features prepped \n",
    " # 🏁  🏁  🏁\n"
   ]
  },
  {
   "cell_type": "markdown",
   "id": "43f8ebba",
   "metadata": {
    "papermill": {
     "duration": 0.008559,
     "end_time": "2022-08-26T09:59:39.494930",
     "exception": false,
     "start_time": "2022-08-26T09:59:39.486371",
     "status": "completed"
    },
    "tags": []
   },
   "source": [
    " ## Ok well now lets encode the categorical variables to numeric\n",
    " - Luckily we only have to deal with Age"
   ]
  },
  {
   "cell_type": "code",
   "execution_count": 17,
   "id": "599ed7b8",
   "metadata": {
    "execution": {
     "iopub.execute_input": "2022-08-26T09:59:39.516214Z",
     "iopub.status.busy": "2022-08-26T09:59:39.514956Z",
     "iopub.status.idle": "2022-08-26T09:59:39.524186Z",
     "shell.execute_reply": "2022-08-26T09:59:39.522859Z"
    },
    "papermill": {
     "duration": 0.023315,
     "end_time": "2022-08-26T09:59:39.526826",
     "exception": false,
     "start_time": "2022-08-26T09:59:39.503511",
     "status": "completed"
    },
    "tags": []
   },
   "outputs": [],
   "source": [
    "all_data['Age'] = all_data['Age'].cat.codes"
   ]
  },
  {
   "cell_type": "markdown",
   "id": "c95b850b",
   "metadata": {
    "execution": {
     "iopub.execute_input": "2022-08-24T10:58:54.491111Z",
     "iopub.status.busy": "2022-08-24T10:58:54.490081Z",
     "iopub.status.idle": "2022-08-24T10:58:54.499120Z",
     "shell.execute_reply": "2022-08-24T10:58:54.498188Z",
     "shell.execute_reply.started": "2022-08-24T10:58:54.491069Z"
    },
    "papermill": {
     "duration": 0.012265,
     "end_time": "2022-08-26T09:59:39.551016",
     "exception": false,
     "start_time": "2022-08-26T09:59:39.538751",
     "status": "completed"
    },
    "tags": []
   },
   "source": [
    "### Ok, now lets split back out to train and test sets..."
   ]
  },
  {
   "cell_type": "code",
   "execution_count": 18,
   "id": "1d9835e8",
   "metadata": {
    "execution": {
     "iopub.execute_input": "2022-08-26T09:59:39.574374Z",
     "iopub.status.busy": "2022-08-26T09:59:39.573574Z",
     "iopub.status.idle": "2022-08-26T09:59:39.589897Z",
     "shell.execute_reply": "2022-08-26T09:59:39.589136Z"
    },
    "papermill": {
     "duration": 0.029345,
     "end_time": "2022-08-26T09:59:39.592239",
     "exception": false,
     "start_time": "2022-08-26T09:59:39.562894",
     "status": "completed"
    },
    "tags": []
   },
   "outputs": [
    {
     "name": "stderr",
     "output_type": "stream",
     "text": [
      "/opt/conda/lib/python3.7/site-packages/pandas/core/frame.py:4913: SettingWithCopyWarning: \n",
      "A value is trying to be set on a copy of a slice from a DataFrame\n",
      "\n",
      "See the caveats in the documentation: https://pandas.pydata.org/pandas-docs/stable/user_guide/indexing.html#returning-a-view-versus-a-copy\n",
      "  errors=errors,\n"
     ]
    }
   ],
   "source": [
    "train_data = all_data.loc[all_data.Train == True]\n",
    "\n",
    "test_data = all_data.loc[all_data.Train == False]\n",
    "\n",
    "if 'Train' in train_data.columns:\n",
    "    train_data.drop(['Train'], axis=1, inplace=True)\n",
    "    \n",
    "if 'Train' in test_data.columns:\n",
    "    test_data.drop(['Train'], axis=1, inplace=True)"
   ]
  },
  {
   "cell_type": "markdown",
   "id": "95fa39ad",
   "metadata": {
    "papermill": {
     "duration": 0.008994,
     "end_time": "2022-08-26T09:59:39.611824",
     "exception": false,
     "start_time": "2022-08-26T09:59:39.602830",
     "status": "completed"
    },
    "tags": []
   },
   "source": [
    "### Split training and test data into X and Y sets"
   ]
  },
  {
   "cell_type": "code",
   "execution_count": 19,
   "id": "3de76d3c",
   "metadata": {
    "execution": {
     "iopub.execute_input": "2022-08-26T09:59:39.632378Z",
     "iopub.status.busy": "2022-08-26T09:59:39.631450Z",
     "iopub.status.idle": "2022-08-26T09:59:39.637170Z",
     "shell.execute_reply": "2022-08-26T09:59:39.636576Z"
    },
    "papermill": {
     "duration": 0.017826,
     "end_time": "2022-08-26T09:59:39.638863",
     "exception": false,
     "start_time": "2022-08-26T09:59:39.621037",
     "status": "completed"
    },
    "tags": []
   },
   "outputs": [],
   "source": [
    "X_train = train_data.drop(\"Survived\", axis=1)\n",
    "Y_train = train_data.Survived\n",
    "\n",
    "X_test = test_data.copy().drop(\"Survived\", axis=1)"
   ]
  },
  {
   "cell_type": "markdown",
   "id": "da2dd70d",
   "metadata": {
    "papermill": {
     "duration": 0.008639,
     "end_time": "2022-08-26T09:59:39.656421",
     "exception": false,
     "start_time": "2022-08-26T09:59:39.647782",
     "status": "completed"
    },
    "tags": []
   },
   "source": [
    "## Lets start building the model!!"
   ]
  },
  {
   "cell_type": "markdown",
   "id": "2b169d24",
   "metadata": {
    "papermill": {
     "duration": 0.008699,
     "end_time": "2022-08-26T09:59:39.673938",
     "exception": false,
     "start_time": "2022-08-26T09:59:39.665239",
     "status": "completed"
    },
    "tags": []
   },
   "source": [
    "#### First scale all the features, since they are all numeric"
   ]
  },
  {
   "cell_type": "code",
   "execution_count": 20,
   "id": "01810e4d",
   "metadata": {
    "execution": {
     "iopub.execute_input": "2022-08-26T09:59:39.694719Z",
     "iopub.status.busy": "2022-08-26T09:59:39.693533Z",
     "iopub.status.idle": "2022-08-26T09:59:39.705143Z",
     "shell.execute_reply": "2022-08-26T09:59:39.703300Z"
    },
    "papermill": {
     "duration": 0.024436,
     "end_time": "2022-08-26T09:59:39.707433",
     "exception": false,
     "start_time": "2022-08-26T09:59:39.682997",
     "status": "completed"
    },
    "tags": []
   },
   "outputs": [],
   "source": [
    "from sklearn.preprocessing import StandardScaler\n",
    "scaler = StandardScaler()\n",
    "\n",
    "X_train_scaled = scaler.fit_transform(X_train)\n",
    "X_test_scaled = scaler.transform(X_test)"
   ]
  },
  {
   "cell_type": "markdown",
   "id": "70cb5782",
   "metadata": {
    "papermill": {
     "duration": 0.009855,
     "end_time": "2022-08-26T09:59:39.727150",
     "exception": false,
     "start_time": "2022-08-26T09:59:39.717295",
     "status": "completed"
    },
    "tags": []
   },
   "source": [
    "# For version 1 of this notebook, lets only consider classifier models"
   ]
  },
  {
   "cell_type": "markdown",
   "id": "823367a4",
   "metadata": {
    "papermill": {
     "duration": 0.009073,
     "end_time": "2022-08-26T09:59:39.746032",
     "exception": false,
     "start_time": "2022-08-26T09:59:39.736959",
     "status": "completed"
    },
    "tags": []
   },
   "source": [
    "### Given several types of classifier models, we can now use cross validation on the training data to find the best classifier model"
   ]
  },
  {
   "cell_type": "code",
   "execution_count": 21,
   "id": "7941d345",
   "metadata": {
    "execution": {
     "iopub.execute_input": "2022-08-26T09:59:39.766043Z",
     "iopub.status.busy": "2022-08-26T09:59:39.765526Z",
     "iopub.status.idle": "2022-08-26T09:59:59.387576Z",
     "shell.execute_reply": "2022-08-26T09:59:59.386754Z"
    },
    "papermill": {
     "duration": 19.634171,
     "end_time": "2022-08-26T09:59:59.389312",
     "exception": false,
     "start_time": "2022-08-26T09:59:39.755141",
     "status": "completed"
    },
    "tags": []
   },
   "outputs": [
    {
     "name": "stderr",
     "output_type": "stream",
     "text": [
      "/opt/conda/lib/python3.7/site-packages/sklearn/neural_network/_multilayer_perceptron.py:696: ConvergenceWarning: Stochastic Optimizer: Maximum iterations (1000) reached and the optimization hasn't converged yet.\n",
      "  ConvergenceWarning,\n",
      "/opt/conda/lib/python3.7/site-packages/sklearn/neural_network/_multilayer_perceptron.py:696: ConvergenceWarning: Stochastic Optimizer: Maximum iterations (1000) reached and the optimization hasn't converged yet.\n",
      "  ConvergenceWarning,\n"
     ]
    },
    {
     "data": {
      "text/plain": [
       "[('SVM', 0.8237775406440274),\n",
       " ('RF', 0.8125729709371665),\n",
       " ('LGBM', 0.8047329106772958),\n",
       " ('MLP', 0.8024731655263324),\n",
       " ('XGB', 0.8013495700207145),\n",
       " ('KNN', 0.796899127487289),\n",
       " ('LR', 0.7934906785512522),\n",
       " ('DT', 0.766580880045195)]"
      ]
     },
     "execution_count": 21,
     "metadata": {},
     "output_type": "execute_result"
    }
   ],
   "source": [
    "classifiers = {\n",
    "    \"KNN\": KNeighborsClassifier(), \n",
    "    \"LR\": LogisticRegression(max_iter=1000), \n",
    "    \"DT\": DecisionTreeClassifier(),\n",
    "    \"RF\": RandomForestClassifier(),\n",
    "    \"SVM\": SVC(),\n",
    "    \"MLP\": MLPClassifier(max_iter=1000),\n",
    "    \"XGB\": XGBClassifier(),\n",
    "    \"LGBM\": LGBMClassifier()\n",
    "}\n",
    "\n",
    "results = dict()\n",
    "for name, clf in classifiers.items():\n",
    "    model = clf\n",
    "    cv_results = cross_validate(\n",
    "        model, X_train_scaled, Y_train, cv=5,\n",
    "        scoring=('accuracy')\n",
    "    )\n",
    "\n",
    "    results[name] = cv_results['test_score'].mean()\n",
    "    \n",
    "from collections import Counter\n",
    "Counter(results).most_common()"
   ]
  },
  {
   "cell_type": "markdown",
   "id": "66890c7b",
   "metadata": {
    "papermill": {
     "duration": 0.009731,
     "end_time": "2022-08-26T09:59:59.411019",
     "exception": false,
     "start_time": "2022-08-26T09:59:59.401288",
     "status": "completed"
    },
    "tags": []
   },
   "source": [
    "### We can see that the SVC (support vector classifier) model has the best score, so lets use it!"
   ]
  },
  {
   "cell_type": "markdown",
   "id": "eaa2eb38",
   "metadata": {
    "papermill": {
     "duration": 0.009227,
     "end_time": "2022-08-26T09:59:59.430127",
     "exception": false,
     "start_time": "2022-08-26T09:59:59.420900",
     "status": "completed"
    },
    "tags": []
   },
   "source": [
    "#### A cross validation grid search for the best hyperparameters for this model"
   ]
  },
  {
   "cell_type": "code",
   "execution_count": 22,
   "id": "c7a3ed40",
   "metadata": {
    "execution": {
     "iopub.execute_input": "2022-08-26T09:59:59.451411Z",
     "iopub.status.busy": "2022-08-26T09:59:59.451077Z",
     "iopub.status.idle": "2022-08-26T10:00:03.689145Z",
     "shell.execute_reply": "2022-08-26T10:00:03.687940Z"
    },
    "papermill": {
     "duration": 4.251459,
     "end_time": "2022-08-26T10:00:03.691419",
     "exception": false,
     "start_time": "2022-08-26T09:59:59.439960",
     "status": "completed"
    },
    "tags": []
   },
   "outputs": [
    {
     "name": "stdout",
     "output_type": "stream",
     "text": [
      "Fitting 10 folds for each of 21 candidates, totalling 210 fits\n",
      "[CV] END ............................degree=0, kernel=linear; total time=   0.0s\n",
      "[CV] END ............................degree=0, kernel=linear; total time=   0.0s\n",
      "[CV] END ............................degree=0, kernel=linear; total time=   0.0s\n",
      "[CV] END ............................degree=0, kernel=linear; total time=   0.0s\n",
      "[CV] END ............................degree=0, kernel=linear; total time=   0.0s\n",
      "[CV] END ............................degree=0, kernel=linear; total time=   0.0s\n",
      "[CV] END ............................degree=0, kernel=linear; total time=   0.0s\n",
      "[CV] END ............................degree=0, kernel=linear; total time=   0.0s\n",
      "[CV] END ............................degree=0, kernel=linear; total time=   0.0s\n",
      "[CV] END ............................degree=0, kernel=linear; total time=   0.0s\n",
      "[CV] END ...............................degree=0, kernel=rbf; total time=   0.0s\n",
      "[CV] END ...............................degree=0, kernel=rbf; total time=   0.0s\n",
      "[CV] END ...............................degree=0, kernel=rbf; total time=   0.0s\n",
      "[CV] END ...............................degree=0, kernel=rbf; total time=   0.0s\n",
      "[CV] END ...............................degree=0, kernel=rbf; total time=   0.0s\n",
      "[CV] END ...............................degree=0, kernel=rbf; total time=   0.0s\n",
      "[CV] END ...............................degree=0, kernel=rbf; total time=   0.0s\n",
      "[CV] END ...............................degree=0, kernel=rbf; total time=   0.0s\n",
      "[CV] END ...............................degree=0, kernel=rbf; total time=   0.0s\n",
      "[CV] END ...............................degree=0, kernel=rbf; total time=   0.0s\n",
      "[CV] END ..............................degree=0, kernel=poly; total time=   0.0s\n",
      "[CV] END ..............................degree=0, kernel=poly; total time=   0.0s\n",
      "[CV] END ..............................degree=0, kernel=poly; total time=   0.0s\n",
      "[CV] END ..............................degree=0, kernel=poly; total time=   0.0s\n",
      "[CV] END ..............................degree=0, kernel=poly; total time=   0.0s\n",
      "[CV] END ..............................degree=0, kernel=poly; total time=   0.0s\n",
      "[CV] END ..............................degree=0, kernel=poly; total time=   0.0s\n",
      "[CV] END ..............................degree=0, kernel=poly; total time=   0.0s\n",
      "[CV] END ..............................degree=0, kernel=poly; total time=   0.0s\n",
      "[CV] END ..............................degree=0, kernel=poly; total time=   0.0s\n",
      "[CV] END ............................degree=1, kernel=linear; total time=   0.0s\n",
      "[CV] END ............................degree=1, kernel=linear; total time=   0.0s\n",
      "[CV] END ............................degree=1, kernel=linear; total time=   0.0s\n",
      "[CV] END ............................degree=1, kernel=linear; total time=   0.0s\n",
      "[CV] END ............................degree=1, kernel=linear; total time=   0.0s\n",
      "[CV] END ............................degree=1, kernel=linear; total time=   0.0s\n",
      "[CV] END ............................degree=1, kernel=linear; total time=   0.0s\n",
      "[CV] END ............................degree=1, kernel=linear; total time=   0.0s\n",
      "[CV] END ............................degree=1, kernel=linear; total time=   0.0s\n",
      "[CV] END ............................degree=1, kernel=linear; total time=   0.0s\n",
      "[CV] END ...............................degree=1, kernel=rbf; total time=   0.0s\n",
      "[CV] END ...............................degree=1, kernel=rbf; total time=   0.0s\n",
      "[CV] END ...............................degree=1, kernel=rbf; total time=   0.0s\n",
      "[CV] END ...............................degree=1, kernel=rbf; total time=   0.0s\n",
      "[CV] END ...............................degree=1, kernel=rbf; total time=   0.0s\n",
      "[CV] END ...............................degree=1, kernel=rbf; total time=   0.0s\n",
      "[CV] END ...............................degree=1, kernel=rbf; total time=   0.0s\n",
      "[CV] END ...............................degree=1, kernel=rbf; total time=   0.0s\n",
      "[CV] END ...............................degree=1, kernel=rbf; total time=   0.0s\n",
      "[CV] END ...............................degree=1, kernel=rbf; total time=   0.0s\n",
      "[CV] END ..............................degree=1, kernel=poly; total time=   0.0s\n",
      "[CV] END ..............................degree=1, kernel=poly; total time=   0.0s\n",
      "[CV] END ..............................degree=1, kernel=poly; total time=   0.0s\n",
      "[CV] END ..............................degree=1, kernel=poly; total time=   0.0s\n",
      "[CV] END ..............................degree=1, kernel=poly; total time=   0.0s\n",
      "[CV] END ..............................degree=1, kernel=poly; total time=   0.0s\n",
      "[CV] END ..............................degree=1, kernel=poly; total time=   0.0s\n",
      "[CV] END ..............................degree=1, kernel=poly; total time=   0.0s\n",
      "[CV] END ..............................degree=1, kernel=poly; total time=   0.0s\n",
      "[CV] END ..............................degree=1, kernel=poly; total time=   0.0s\n",
      "[CV] END ............................degree=2, kernel=linear; total time=   0.0s\n",
      "[CV] END ............................degree=2, kernel=linear; total time=   0.0s\n",
      "[CV] END ............................degree=2, kernel=linear; total time=   0.0s\n",
      "[CV] END ............................degree=2, kernel=linear; total time=   0.0s\n",
      "[CV] END ............................degree=2, kernel=linear; total time=   0.0s\n",
      "[CV] END ............................degree=2, kernel=linear; total time=   0.0s\n",
      "[CV] END ............................degree=2, kernel=linear; total time=   0.0s\n",
      "[CV] END ............................degree=2, kernel=linear; total time=   0.0s\n",
      "[CV] END ............................degree=2, kernel=linear; total time=   0.0s\n",
      "[CV] END ............................degree=2, kernel=linear; total time=   0.0s\n",
      "[CV] END ...............................degree=2, kernel=rbf; total time=   0.0s\n",
      "[CV] END ...............................degree=2, kernel=rbf; total time=   0.0s\n",
      "[CV] END ...............................degree=2, kernel=rbf; total time=   0.0s\n",
      "[CV] END ...............................degree=2, kernel=rbf; total time=   0.0s\n",
      "[CV] END ...............................degree=2, kernel=rbf; total time=   0.0s\n",
      "[CV] END ...............................degree=2, kernel=rbf; total time=   0.0s\n",
      "[CV] END ...............................degree=2, kernel=rbf; total time=   0.0s\n",
      "[CV] END ...............................degree=2, kernel=rbf; total time=   0.0s\n",
      "[CV] END ...............................degree=2, kernel=rbf; total time=   0.0s\n",
      "[CV] END ...............................degree=2, kernel=rbf; total time=   0.0s\n",
      "[CV] END ..............................degree=2, kernel=poly; total time=   0.0s\n",
      "[CV] END ..............................degree=2, kernel=poly; total time=   0.0s\n",
      "[CV] END ..............................degree=2, kernel=poly; total time=   0.0s\n",
      "[CV] END ..............................degree=2, kernel=poly; total time=   0.0s\n",
      "[CV] END ..............................degree=2, kernel=poly; total time=   0.0s\n",
      "[CV] END ..............................degree=2, kernel=poly; total time=   0.0s\n",
      "[CV] END ..............................degree=2, kernel=poly; total time=   0.0s\n",
      "[CV] END ..............................degree=2, kernel=poly; total time=   0.0s\n",
      "[CV] END ..............................degree=2, kernel=poly; total time=   0.0s\n",
      "[CV] END ..............................degree=2, kernel=poly; total time=   0.0s\n",
      "[CV] END ............................degree=3, kernel=linear; total time=   0.0s\n",
      "[CV] END ............................degree=3, kernel=linear; total time=   0.0s\n",
      "[CV] END ............................degree=3, kernel=linear; total time=   0.0s\n",
      "[CV] END ............................degree=3, kernel=linear; total time=   0.0s\n",
      "[CV] END ............................degree=3, kernel=linear; total time=   0.0s\n",
      "[CV] END ............................degree=3, kernel=linear; total time=   0.0s\n",
      "[CV] END ............................degree=3, kernel=linear; total time=   0.0s\n",
      "[CV] END ............................degree=3, kernel=linear; total time=   0.0s\n",
      "[CV] END ............................degree=3, kernel=linear; total time=   0.0s\n",
      "[CV] END ............................degree=3, kernel=linear; total time=   0.0s\n",
      "[CV] END ...............................degree=3, kernel=rbf; total time=   0.0s\n",
      "[CV] END ...............................degree=3, kernel=rbf; total time=   0.0s\n",
      "[CV] END ...............................degree=3, kernel=rbf; total time=   0.0s\n",
      "[CV] END ...............................degree=3, kernel=rbf; total time=   0.0s\n",
      "[CV] END ...............................degree=3, kernel=rbf; total time=   0.0s\n",
      "[CV] END ...............................degree=3, kernel=rbf; total time=   0.0s\n",
      "[CV] END ...............................degree=3, kernel=rbf; total time=   0.0s\n",
      "[CV] END ...............................degree=3, kernel=rbf; total time=   0.0s\n",
      "[CV] END ...............................degree=3, kernel=rbf; total time=   0.0s\n",
      "[CV] END ...............................degree=3, kernel=rbf; total time=   0.0s\n",
      "[CV] END ..............................degree=3, kernel=poly; total time=   0.0s\n",
      "[CV] END ..............................degree=3, kernel=poly; total time=   0.0s\n",
      "[CV] END ..............................degree=3, kernel=poly; total time=   0.0s\n",
      "[CV] END ..............................degree=3, kernel=poly; total time=   0.0s\n",
      "[CV] END ..............................degree=3, kernel=poly; total time=   0.0s\n",
      "[CV] END ..............................degree=3, kernel=poly; total time=   0.0s\n",
      "[CV] END ..............................degree=3, kernel=poly; total time=   0.0s\n",
      "[CV] END ..............................degree=3, kernel=poly; total time=   0.0s\n",
      "[CV] END ..............................degree=3, kernel=poly; total time=   0.0s\n",
      "[CV] END ..............................degree=3, kernel=poly; total time=   0.0s\n",
      "[CV] END ............................degree=4, kernel=linear; total time=   0.0s\n",
      "[CV] END ............................degree=4, kernel=linear; total time=   0.0s\n",
      "[CV] END ............................degree=4, kernel=linear; total time=   0.0s\n",
      "[CV] END ............................degree=4, kernel=linear; total time=   0.0s\n",
      "[CV] END ............................degree=4, kernel=linear; total time=   0.0s\n",
      "[CV] END ............................degree=4, kernel=linear; total time=   0.0s\n",
      "[CV] END ............................degree=4, kernel=linear; total time=   0.0s\n",
      "[CV] END ............................degree=4, kernel=linear; total time=   0.0s\n",
      "[CV] END ............................degree=4, kernel=linear; total time=   0.0s\n",
      "[CV] END ............................degree=4, kernel=linear; total time=   0.0s\n",
      "[CV] END ...............................degree=4, kernel=rbf; total time=   0.0s\n",
      "[CV] END ...............................degree=4, kernel=rbf; total time=   0.0s\n",
      "[CV] END ...............................degree=4, kernel=rbf; total time=   0.0s\n",
      "[CV] END ...............................degree=4, kernel=rbf; total time=   0.0s\n",
      "[CV] END ...............................degree=4, kernel=rbf; total time=   0.0s\n",
      "[CV] END ...............................degree=4, kernel=rbf; total time=   0.0s\n",
      "[CV] END ...............................degree=4, kernel=rbf; total time=   0.0s\n",
      "[CV] END ...............................degree=4, kernel=rbf; total time=   0.0s\n",
      "[CV] END ...............................degree=4, kernel=rbf; total time=   0.0s\n",
      "[CV] END ...............................degree=4, kernel=rbf; total time=   0.0s\n",
      "[CV] END ..............................degree=4, kernel=poly; total time=   0.0s\n",
      "[CV] END ..............................degree=4, kernel=poly; total time=   0.0s\n",
      "[CV] END ..............................degree=4, kernel=poly; total time=   0.0s\n",
      "[CV] END ..............................degree=4, kernel=poly; total time=   0.0s\n",
      "[CV] END ..............................degree=4, kernel=poly; total time=   0.0s\n",
      "[CV] END ..............................degree=4, kernel=poly; total time=   0.0s\n",
      "[CV] END ..............................degree=4, kernel=poly; total time=   0.0s\n",
      "[CV] END ..............................degree=4, kernel=poly; total time=   0.0s\n",
      "[CV] END ..............................degree=4, kernel=poly; total time=   0.0s\n",
      "[CV] END ..............................degree=4, kernel=poly; total time=   0.0s\n",
      "[CV] END ............................degree=5, kernel=linear; total time=   0.0s\n",
      "[CV] END ............................degree=5, kernel=linear; total time=   0.0s\n",
      "[CV] END ............................degree=5, kernel=linear; total time=   0.0s\n",
      "[CV] END ............................degree=5, kernel=linear; total time=   0.0s\n",
      "[CV] END ............................degree=5, kernel=linear; total time=   0.0s\n",
      "[CV] END ............................degree=5, kernel=linear; total time=   0.0s\n",
      "[CV] END ............................degree=5, kernel=linear; total time=   0.0s\n",
      "[CV] END ............................degree=5, kernel=linear; total time=   0.0s\n",
      "[CV] END ............................degree=5, kernel=linear; total time=   0.0s\n",
      "[CV] END ............................degree=5, kernel=linear; total time=   0.0s\n",
      "[CV] END ...............................degree=5, kernel=rbf; total time=   0.0s\n",
      "[CV] END ...............................degree=5, kernel=rbf; total time=   0.0s\n",
      "[CV] END ...............................degree=5, kernel=rbf; total time=   0.0s\n",
      "[CV] END ...............................degree=5, kernel=rbf; total time=   0.0s\n",
      "[CV] END ...............................degree=5, kernel=rbf; total time=   0.0s\n",
      "[CV] END ...............................degree=5, kernel=rbf; total time=   0.0s\n",
      "[CV] END ...............................degree=5, kernel=rbf; total time=   0.0s\n",
      "[CV] END ...............................degree=5, kernel=rbf; total time=   0.0s\n",
      "[CV] END ...............................degree=5, kernel=rbf; total time=   0.0s\n",
      "[CV] END ...............................degree=5, kernel=rbf; total time=   0.0s\n",
      "[CV] END ..............................degree=5, kernel=poly; total time=   0.0s\n",
      "[CV] END ..............................degree=5, kernel=poly; total time=   0.0s\n",
      "[CV] END ..............................degree=5, kernel=poly; total time=   0.0s\n",
      "[CV] END ..............................degree=5, kernel=poly; total time=   0.0s\n",
      "[CV] END ..............................degree=5, kernel=poly; total time=   0.0s\n",
      "[CV] END ..............................degree=5, kernel=poly; total time=   0.0s\n",
      "[CV] END ..............................degree=5, kernel=poly; total time=   0.0s\n",
      "[CV] END ..............................degree=5, kernel=poly; total time=   0.0s\n",
      "[CV] END ..............................degree=5, kernel=poly; total time=   0.0s\n",
      "[CV] END ..............................degree=5, kernel=poly; total time=   0.0s\n",
      "[CV] END ............................degree=6, kernel=linear; total time=   0.0s\n",
      "[CV] END ............................degree=6, kernel=linear; total time=   0.0s\n",
      "[CV] END ............................degree=6, kernel=linear; total time=   0.0s\n",
      "[CV] END ............................degree=6, kernel=linear; total time=   0.0s\n",
      "[CV] END ............................degree=6, kernel=linear; total time=   0.0s\n",
      "[CV] END ............................degree=6, kernel=linear; total time=   0.0s\n",
      "[CV] END ............................degree=6, kernel=linear; total time=   0.0s\n",
      "[CV] END ............................degree=6, kernel=linear; total time=   0.0s\n",
      "[CV] END ............................degree=6, kernel=linear; total time=   0.0s\n",
      "[CV] END ............................degree=6, kernel=linear; total time=   0.0s\n",
      "[CV] END ...............................degree=6, kernel=rbf; total time=   0.0s\n",
      "[CV] END ...............................degree=6, kernel=rbf; total time=   0.0s\n",
      "[CV] END ...............................degree=6, kernel=rbf; total time=   0.0s\n",
      "[CV] END ...............................degree=6, kernel=rbf; total time=   0.0s\n",
      "[CV] END ...............................degree=6, kernel=rbf; total time=   0.0s\n",
      "[CV] END ...............................degree=6, kernel=rbf; total time=   0.0s\n",
      "[CV] END ...............................degree=6, kernel=rbf; total time=   0.0s\n",
      "[CV] END ...............................degree=6, kernel=rbf; total time=   0.0s\n",
      "[CV] END ...............................degree=6, kernel=rbf; total time=   0.0s\n",
      "[CV] END ...............................degree=6, kernel=rbf; total time=   0.0s\n",
      "[CV] END ..............................degree=6, kernel=poly; total time=   0.0s\n",
      "[CV] END ..............................degree=6, kernel=poly; total time=   0.0s\n",
      "[CV] END ..............................degree=6, kernel=poly; total time=   0.0s\n",
      "[CV] END ..............................degree=6, kernel=poly; total time=   0.0s\n",
      "[CV] END ..............................degree=6, kernel=poly; total time=   0.0s\n",
      "[CV] END ..............................degree=6, kernel=poly; total time=   0.0s\n",
      "[CV] END ..............................degree=6, kernel=poly; total time=   0.0s\n",
      "[CV] END ..............................degree=6, kernel=poly; total time=   0.0s\n",
      "[CV] END ..............................degree=6, kernel=poly; total time=   0.0s\n",
      "[CV] END ..............................degree=6, kernel=poly; total time=   0.0s\n",
      "Best hyperparameter: {'degree': 0, 'kernel': 'rbf'}\n"
     ]
    }
   ],
   "source": [
    "svc = SVC(random_state=0)\n",
    "params = {\n",
    "    \"kernel\": ['linear', 'rbf', 'poly'],\n",
    "    #\"gamma\": [0.1, 1, 10, 100], # I would comment these two hyperparemters out\n",
    "    #\"C\": [0.1, 1, 10, 100, 1000], # because otherewise it takes too long to run\n",
    "    \"degree\": [0, 1, 2, 3, 4, 5, 6] \n",
    "}\n",
    "clf = GridSearchCV(svc, params, cv=10, verbose=2)\n",
    "clf.fit(X_train_scaled, Y_train)\n",
    "print(\"Best hyperparameter:\", clf.best_params_)"
   ]
  },
  {
   "cell_type": "markdown",
   "id": "7f9df207",
   "metadata": {
    "papermill": {
     "duration": 0.009869,
     "end_time": "2022-08-26T10:00:03.711635",
     "exception": false,
     "start_time": "2022-08-26T10:00:03.701766",
     "status": "completed"
    },
    "tags": []
   },
   "source": [
    "# Lets submit ✌️ 🤓 🥳"
   ]
  },
  {
   "cell_type": "code",
   "execution_count": 23,
   "id": "7e215d9a",
   "metadata": {
    "execution": {
     "iopub.execute_input": "2022-08-26T10:00:03.734090Z",
     "iopub.status.busy": "2022-08-26T10:00:03.733723Z",
     "iopub.status.idle": "2022-08-26T10:00:03.752352Z",
     "shell.execute_reply": "2022-08-26T10:00:03.751185Z"
    },
    "papermill": {
     "duration": 0.032793,
     "end_time": "2022-08-26T10:00:03.754744",
     "exception": false,
     "start_time": "2022-08-26T10:00:03.721951",
     "status": "completed"
    },
    "tags": []
   },
   "outputs": [],
   "source": [
    "Y_pred = clf.predict(X_test_scaled)\n",
    "\n",
    "submission = pd.DataFrame({\n",
    "         \"PassengerId\": PassengerId,\n",
    "         \"Survived\": Y_pred.astype(int)\n",
    "})\n",
    "submission.to_csv('submission.csv', index=False)"
   ]
  },
  {
   "cell_type": "code",
   "execution_count": null,
   "id": "6163f3f7",
   "metadata": {
    "papermill": {
     "duration": 0.010852,
     "end_time": "2022-08-26T10:00:03.776440",
     "exception": false,
     "start_time": "2022-08-26T10:00:03.765588",
     "status": "completed"
    },
    "tags": []
   },
   "outputs": [],
   "source": []
  }
 ],
 "metadata": {
  "kernelspec": {
   "display_name": "Python 3",
   "language": "python",
   "name": "python3"
  },
  "language_info": {
   "codemirror_mode": {
    "name": "ipython",
    "version": 3
   },
   "file_extension": ".py",
   "mimetype": "text/x-python",
   "name": "python",
   "nbconvert_exporter": "python",
   "pygments_lexer": "ipython3",
   "version": "3.7.12"
  },
  "papermill": {
   "default_parameters": {},
   "duration": 35.813791,
   "end_time": "2022-08-26T10:00:04.610463",
   "environment_variables": {},
   "exception": null,
   "input_path": "__notebook__.ipynb",
   "output_path": "__notebook__.ipynb",
   "parameters": {},
   "start_time": "2022-08-26T09:59:28.796672",
   "version": "2.3.4"
  }
 },
 "nbformat": 4,
 "nbformat_minor": 5
}
